{
 "cells": [
  {
   "cell_type": "code",
   "execution_count": 5,
   "metadata": {},
   "outputs": [],
   "source": [
    "from langchain_huggingface import HuggingFaceEmbeddings\n",
    "from tqdm import tqdm\n",
    "\n",
    "# Specify the model name and local directory for saving\n",
    "\n",
    "local_model_path = \"./huggingFaceModels/paraphrase-multilingual-MiniLM-L12-v2\"\n",
    "\n",
    "#model_name = \"mixedbread-ai/mxbai-embed-large-v1\"\n",
    "#model_name='microsoft/BiomedNLP-PubMedBERT-base-uncased-abstract'\n",
    "model_name=\"sentence-transformers/paraphrase-multilingual-MiniLM-L12-v2\"\n",
    "model_kwargs = {'device': 'cuda'}\n",
    "encode_kwargs = {'normalize_embeddings': False}\n",
    "hf = HuggingFaceEmbeddings(\n",
    "    model_name=model_name,\n",
    "    model_kwargs=model_kwargs,\n",
    "    encode_kwargs=encode_kwargs,\n",
    "    cache_folder=local_model_path\n",
    ")\n",
    "\n"
   ]
  },
  {
   "cell_type": "code",
   "execution_count": 6,
   "metadata": {},
   "outputs": [
    {
     "name": "stdout",
     "output_type": "stream",
     "text": [
      "{'White Blood Cell (WBC) count': ['numération des leucocytes', 'compte des globules blancs', 'GB'], 'Red Blood Cell (RBC) count': ['numération des globules rouges', 'compte des érythrocytes', 'GR'], 'Hemoglobin (Hb)': ['hémoglobine', 'globine', 'HB'], 'Hematocrit (Hct)': ['hématocrite', 'taux de cellules sanguines', 'HT'], 'Mean Corpuscular Volume (MCV)': ['volume corpusculaire moyen', 'VCM'], 'Mean Corpuscular Hemoglobin (MCH)': ['hémoglobine corpusculaire moyenne', 'HCM'], 'Mean Corpuscular Hemoglobin Concentration (MCHC)': ['concentration en hémoglobine corpusculaire moyenne', 'CHCM'], 'Platelet count': ['numération plaquettaire', 'compte des thrombocytes', 'Plaquettes'], 'Mean Platelet Volume (MPV)': ['volume plaquettaire moyen', 'VPM'], 'Red Cell Distribution Width (RDW)': ['largeur de distribution des globules rouges', 'RDW'], 'Neutrophils': ['neutrophiles', 'polynucléaires neutrophiles', 'PN'], 'Lymphocytes %': ['lymphocytes %', 'pourcentage lymphocytes', 'cellules lymphoïdes'], 'Lymphocytes #': ['lymphocytes #', 'compte lymphocytes', 'cellules lymphoïdes'], 'Monocytes': ['monocytes', 'macrophages circulants', 'MN'], 'Eosinophils': ['éosinophiles', 'polynucléaires éosinophiles', 'EO'], 'Basophils': ['basophiles', 'polynucléaires basophiles'], 'Sodium (Na)': ['sodium', 'natrémie', 'NA+', 'Ionogramme Natrémie (N)'], 'Potassium (K)': ['potassium', 'kaliémie', 'K+', 'Ionogramme Kaliémie (K)'], 'Chloride (Cl)': ['chlorure', 'Cl-'], 'Bicarbonate (HCO3)': ['bicarbonate', 'HCO3'], 'Blood Urea Nitrogen (BUN)': ['azote uréique sanguin', 'urée sanguine', 'urée'], 'Creatinine': ['créatinine', 'produit de dégradation musculaire', 'creat'], 'Clearance': ['Clearance de la créatinine', 'Cl'], 'Glucose': ['glycemie', 'sucre sanguin', 'Glucose'], 'Calcium (Ca)': ['calcium', 'Ca+'], 'Albumin': ['albumine', 'protéine plasmique', 'Alb'], 'Total Protein': ['protéine totale', 'quantité totale de protéines'], 'Alkaline Phosphatase (ALP)': ['phosphatase alcaline', 'ALP', 'PA'], 'Alanine Aminotransferase (ALT)': ['alanine aminotransférase', 'transaminase alanine', 'Al'], 'Aspartate Aminotransferase (AST)': ['aspartate aminotransférase', 'transaminase aspartate'], 'Bilirubin': ['bilirubine totale', 'pigment biliaire'], 'Bilirubin C': ['bilirubine conjuguée'], 'Bilirubin NC': ['bilirubine non conjuguée'], 'Total Cholesterol': ['cholestérol total', 'cholestérol sanguin', 'Chol T'], 'Low-Density Lipoprotein (LDL)': ['lipoprotéine de faible densité', 'cholestérol LDL', 'LDL'], 'High-Density Lipoprotein (HDL)': ['lipoprotéine de haute densité', 'cholestérol HDL', 'HDL'], 'Triglycerides': ['triglycérides', 'graisses sanguines', 'TG'], 'Very Low-Density Lipoprotein (VLDL)': ['lipoprotéine de très faible densité', 'VLDL'], 'Cholesterol/HDL Ratio': ['rapport cholestérol/HDL', 'ratio cholestérol sur HDL'], 'Gamma-Glutamyl Transferase (GGT)': ['gamma-glutamyl transférase', 'GGT', 'gama GT'], 'Prothrombin Time (PT)': ['temps de prothrombine', 'TP'], 'Thyroid Stimulating Hormone (TSH)': ['hormone stimulant la thyroïde', 'TSH'], 'Free Thyroxine (Free T4)': ['thyroxine libre', 'T4 libre'], 'Free Triiodothyronine (Free T3)': ['triiodothyronine libre', 'T3 libre'], 'HbA1c percentage': [\"pourcentage d'HbA1c\", \"taux d'HbA1c\"], 'pH': ['pH', 'acido-basique'], 'Ketones': ['cétones', 'corps cétoniques'], 'Urobilinogen': ['urobilinogène', 'produit de dégradation de la bilirubine'], 'Nitrites': ['nitrites', 'composés nitratés'], 'Leukocyte Esterase': ['ésterase des leucocytes', 'estérase leucocytaire'], 'ESR value': ['valeur de la vitesse de sédimentation des érythrocytes', 'vitesse de sédimentation', 'VS'], 'CRP value': ['valeur de la protéine C-réactive', 'CRP'], 'Troponin I': ['troponine I', 'troponine cardiaque I', 'troponines s'], 'Troponin T': ['troponine T', 'troponine cardiaque T', 'troponines us'], 'Serum Amylase': ['amylase sérique', 'amylase plasmatique'], 'Serum Lipase': ['lipase sérique', 'lipase plasmatique'], 'Lactate Dehydrogenase (LDH) level': ['niveau de lactate déshydrogénase', 'taux de LDH'], 'Serum Folate': ['folate sérique', 'acide folique plasmatique'], 'Vitamin B12 level': ['niveau de vitamine B12', 'taux de vitamine B12', 'vitamine B12 sérique', 'vitamine B12 plasmatique'], 'Total Testosterone': ['testostérone totale', 'testostérone globale'], 'Free Testosterone': ['testostérone libre', 'testostérone non liée'], 'Bioavailable Testosterone': ['testostérone biodisponible', 'testostérone active'], 'Estradiol Level': [\"niveau d'estradiol\", \"taux d'estradiol\"], 'Progesterone Level': ['niveau de progestérone', 'taux de progestérone'], 'LH Level': ['niveau de LH', 'taux de LH'], 'FSH Level': ['niveau de FSH', 'taux de FSH'], 'Prolactin Level': ['niveau de prolactine', 'taux de prolactine'], 'Serum Cortisol': ['cortisol sérique', 'cortisol plasmatique'], 'Free Cortisol (often in saliva or urine)': ['cortisol libre (souvent dans la salive ou les urines)', 'cortisol non lié'], 'DHEA-S Level': ['niveau de DHEA-S', 'taux de DHEA-S'], 'Fasting Insulin': ['insuline à jeun', \"taux d'insuline à jeun\"], 'Postprandial Insulin': ['insuline postprandiale', \"taux d'insuline après repas\"], 'Parathyroid Hormone (PTH) Level': [\"niveau de l'hormone parathyroïde\", 'taux de PTH'], 'Erythropoietin Level': [\"niveau d'érythropoïétine\", \"taux d'érythropoïétine\"], 'Serum Aldosterone': ['aldostérone sérique', 'aldostérone plasmatique'], 'Urine Aldosterone': ['aldostérone urinaire', 'aldostérone dans les urines'], 'Plasma Renin Activity (PRA)': ['activité de la rénine plasmatique', 'activité rénine plasmatique'], 'C-Peptide Level': ['niveau de peptide C', 'taux de peptide C'], 'Partial Pressure of Oxygen (pO2)': [\"pression partielle de l'oxygène\", 'pO2'], 'Partial Pressure of Carbon Dioxide (pCO2)': ['pression partielle du dioxyde de carbone', 'pCO2'], 'Oxygen Saturation (O2 Sat)': ['saturation en oxygène', 'saturation O2'], 'Lactate Level': ['niveau de lactate', 'taux de lactate'], 'Quantitative Beta-HCG': ['bêta-HCG quantitatif', 'bêta-hCG mesuré'], 'Qualitative Beta-HCG': ['bêta-HCG qualitatif', 'bêta-hCG détecté'], 'Thyroid Peroxidase Antibody (TPO)': ['anticorps anti-peroxydase thyroïdienne', 'anticorps anti-TPO'], 'Thyroglobulin Antibody (TGAb)': ['anticorps anti-thyroglobuline', 'anticorps anti-TGAb'], 'Plasma Ammonia': ['ammoniaque plasmatique', 'ammoniaque sanguine'], 'BNP Level': ['niveau de BNP', 'taux de BNP'], 'pro-BNP Level': ['niveau de pro BNP', 'taux de pro BNP'], 'Serum Myoglobin': ['myoglobine sérique', 'myoglobine plasmatique'], 'Homocysteine Level': [\"niveau d'homocystéine\", \"taux d'homocystéine\"], 'Apo A1': ['Apo A1', 'apolipoprotéine A1'], 'Apo B': ['Apo B', 'apolipoprotéine B'], 'Serum Osmolality Level': [\"niveau de l'osmolarité sérique\", 'osmolarité plasmatique'], 'Urine Osmolality Level': [\"niveau de l'osmolarité urinaire\", 'osmolarité des urines'], 'Total IgE': ['IgE totale', 'immunoglobuline E totale'], 'Allergen-specific IgE': ['IgE spécifique aux allergènes', 'immunoglobuline E spécifique aux allergènes'], 'IgG': ['IgG', 'immunoglobuline G'], 'IgA': ['IgA', 'immunoglobuline A'], 'IgM levels': [\"niveau d'IgM\", \"taux d'IgM\"], 'C3 Level': ['niveau de C3', 'taux de C3'], 'C4 Level': ['niveau de C4', 'taux de C4']}\n"
     ]
    }
   ],
   "source": [
    "import json\n",
    "\n",
    "\n",
    "docs = []\n",
    "\n",
    "with open('newFrenchList.json', 'r') as file:\n",
    "    docs = json.load(file)\n",
    "\n",
    "print(docs)"
   ]
  },
  {
   "cell_type": "code",
   "execution_count": 7,
   "metadata": {},
   "outputs": [
    {
     "name": "stdout",
     "output_type": "stream",
     "text": [
      "{'payload': {'parameterName': 'White Blood Cell (WBC) count', 'frenchNames': 'numération des leucocytes'}, 'vector': [-0.22009702026844025, 0.10764839500188828, -0.2657281458377838, -0.05216720700263977, -0.06085629388689995, -0.310315877199173, 0.13154655694961548, 0.27743688225746155, 0.1815439909696579, -0.07791664451360703, 0.14397795498371124, -0.32529789209365845, 0.114191435277462, 0.016504857689142227, -0.3059043884277344, -0.10376081615686417, -0.3693679869174957, 0.151881605386734, -0.4423394799232483, -0.08655091375112534, 0.23028771579265594, 0.09714654088020325, 0.10321376472711563, 0.2560408115386963, 0.09172146767377853, -0.17568762600421906, -0.11752015352249146, -0.17567700147628784, -0.0716068297624588, -0.2830509543418884, 0.1250058114528656, 0.023569706827402115, 0.02750490978360176, 0.010335625149309635, -0.03592571243643761, -0.04944963753223419, -0.007683273404836655, 0.14887836575508118, 0.06082117557525635, -0.06241949647665024, 0.20305080711841583, 0.15064039826393127, -0.09329499304294586, 0.12224125862121582, 0.33714205026626587, -0.021242229267954826, -0.2278057038784027, 0.23651213943958282, -0.023313747718930244, -0.031615179032087326, -0.013133826665580273, 0.01957961916923523, -0.2504003942012787, 0.043640296906232834, -0.14535512030124664, 0.014406895264983177, -0.5320221185684204, -0.10923200845718384, 0.16414017975330353, 0.1573295146226883, -0.003360733389854431, -0.1958618462085724, -0.09729418903589249, 0.3632694184780121, 0.10081646591424942, -0.3574565052986145, 0.31283655762672424, 0.013684446923434734, -0.14815382659435272, 0.3598599135875702, -0.024516839534044266, 0.006076087709516287, 0.3029237687587738, 0.1724274456501007, 0.283585786819458, 0.1103273406624794, -0.07470904290676117, 0.0380677729845047, 0.06992727518081665, 0.17696039378643036, 0.28665417432785034, 0.10712076723575592, 0.18587571382522583, 0.3077467381954193, 0.029244666919112206, 0.08014024049043655, 0.210322767496109, -0.0058924853801727295, -0.1404537409543991, -0.1379057914018631, 0.07126880437135696, -0.3920505940914154, -0.06564334779977798, 0.034052774310112, -0.013952513225376606, 0.015164444223046303, 0.06785383075475693, -0.17457404732704163, 0.23905649781227112, 0.23974314332008362, -0.004915093537420034, 0.002938880119472742, 0.13415588438510895, 0.2207232415676117, -0.24033930897712708, -0.1731785535812378, 0.017746487632393837, -0.10413815826177597, 0.1307031810283661, 0.22840161621570587, 0.04022005572915077, 0.1735900342464447, -0.058396220207214355, 0.1626453846693039, 0.446420282125473, -0.00687889289110899, 0.29420462250709534, -0.019729431718587875, 0.2674385905265808, 0.19626224040985107, -0.057375144213438034, 0.04918099567294121, -0.05678747966885567, -0.006042349152266979, 0.247784823179245, 0.03624829649925232, 0.09729655086994171, 0.12534916400909424, 0.3021116256713867, -0.07711288332939148, 0.14560531079769135, 0.08437194675207138, -0.24982543289661407, -0.09466860443353653, -0.3753076493740082, -0.1248130053281784, 0.1943349391222, 0.09787829220294952, -0.23335346579551697, 0.14023925364017487, 0.1611536741256714, 0.177491694688797, 0.08189968764781952, 0.049837373197078705, 0.05631110072135925, 0.2560681998729706, 0.1984325796365738, -0.31105297803878784, -0.07965195178985596, -0.012892955914139748, 0.11870018392801285, 0.0016443788772448897, 0.1955505609512329, -0.19065088033676147, -0.09663698822259903, 0.06031777709722519, -0.27041471004486084, 0.047861404716968536, 0.004383910447359085, -0.07489651441574097, -0.13333377242088318, 0.14384737610816956, 0.0049422443844377995, 0.3104603886604309, -0.07121695578098297, 0.0926249548792839, -0.10348761081695557, 0.05649901181459427, -0.17674210667610168, 0.1441144049167633, -0.06725169718265533, -0.13214802742004395, 0.08790755271911621, 0.01213805191218853, -0.022703375667333603, -0.049467284232378006, -0.19066977500915527, 0.25988513231277466, 0.1870408058166504, 0.08123290538787842, -0.050872184336185455, -0.13996601104736328, 0.13144055008888245, 0.02188214287161827, -0.3338337242603302, -0.034048616886138916, -0.03365837410092354, 0.013581464067101479, 0.21144568920135498, -0.030999910086393356, -0.257977694272995, 0.33311229944229126, 0.19126561284065247, 0.1699765920639038, -0.2727120518684387, -0.39263856410980225, -0.03730928525328636, -0.31503114104270935, -0.0679108276963234, -0.2504449486732483, 0.09323875606060028, -0.12035612761974335, -0.08990924060344696, 0.04907050356268883, 0.08245465159416199, -0.0070493584498763084, -0.23664982616901398, 0.16736358404159546, 0.2863793671131134, -0.14297834038734436, -0.23724432289600372, -0.26206907629966736, -0.21581503748893738, 0.0152272405102849, 0.10788880288600922, 0.29701870679855347, -0.32087332010269165, -0.062273524701595306, 0.1832025945186615, -0.21973279118537903, 0.015600730665028095, -0.1794372797012329, -0.15268488228321075, -0.16422055661678314, 0.2085631638765335, 0.08028645813465118, 0.19550128281116486, 0.03148198127746582, 0.1582345962524414, 0.06042323634028435, 0.05567396804690361, 0.11907839775085449, 0.1490049809217453, 0.09976211190223694, 0.16377490758895874, -0.05601440742611885, -0.2418777495622635, 0.08632330596446991, 0.14006055891513824, -0.1462012231349945, -0.07181020081043243, -0.1580006331205368, 0.010156487114727497, 0.08611290156841278, -0.2668387293815613, 0.19117137789726257, 0.022807415574789047, 0.24483156204223633, -0.18969109654426575, 0.2669160068035126, -0.28096166253089905, 0.012467066757380962, -0.19464902579784393, -0.21121414005756378, -0.2476911097764969, -0.26989108324050903, 0.16721926629543304, 0.0608057975769043, 0.07110334932804108, -0.19969838857650757, -0.07558871805667877, 0.25460824370384216, -0.06237390637397766, -0.2984008491039276, -0.2889998257160187, -0.1383994072675705, 0.21840424835681915, 0.012867542915046215, 0.27222251892089844, 0.025118524208664894, 0.181782528758049, 0.050341106951236725, 0.18179930746555328, -0.14352881908416748, -0.04817181080579758, 0.24644717574119568, -0.14872092008590698, 0.07518885284662247, 0.15712974965572357, 0.07409556210041046, 0.06234028935432434, -0.042677126824855804, 0.0628448948264122, -0.048983823508024216, -0.017741402611136436, -0.1548447161912918, -0.010064060799777508, -0.029870372265577316, -0.035671114921569824, 0.1833551973104477, -0.01753097027540207, 0.22036707401275635, -0.23855558037757874, 0.2421228587627411, 0.08318977057933807, 0.2723941504955292, 0.06251673400402069, -0.17169132828712463, -0.27221864461898804, -0.1877564936876297, -0.38183289766311646, -0.31608936190605164, -0.2245502918958664, 0.16312570869922638, -0.2272728681564331, -0.03874582052230835, 0.02902103401720524, 0.013541054911911488, 0.27204781770706177, -0.12187241017818451, 0.2045019567012787, -0.1433793008327484, -0.11785934120416641, -0.1500791311264038, -0.0006462410092353821, -0.12575730681419373, -0.2262129783630371, 0.019588066264986992, 0.155983567237854, -0.22203083336353302, 0.34760451316833496, -0.04488527029752731, -0.4164862632751465, 0.10961940139532089, 0.14412100613117218, 0.025470400229096413, 0.1387721449136734, 0.1428743153810501, -0.11209069192409515, 0.1947815716266632, 0.0726904347538948, 0.22669252753257751, -0.005707837175577879, 0.011764587834477425, -0.058799564838409424, 0.18091772496700287, -0.21261191368103027, -0.03767657279968262, -0.002520158886909485, -0.15834474563598633, -0.1378314048051834, -0.07324238866567612, 0.14542171359062195, -0.06886955350637436, 0.047955214977264404, -0.14715445041656494, 0.06148497015237808, 0.03542774170637131, 0.23548516631126404, -0.07213751971721649, 0.42788130044937134, -0.1414676457643509, -0.003226603614166379, -0.10302694886922836, -0.18878251314163208, -0.05134560540318489, -0.26792266964912415, -0.0008534157532267272, -0.09184952080249786, 0.015036428347229958, -0.23546862602233887, -0.1927727907896042, 0.17772535979747772, 0.2031542807817459, 0.04396906495094299, 0.12256862968206406, 0.20966091752052307, -0.07880561053752899, -0.12183699756860733, -0.07616313546895981, -0.36176949739456177, 0.16598305106163025, -0.03260455280542374, -0.18055081367492676, -0.1897040158510208, 0.22494101524353027, -0.08010871708393097, -0.06417284160852432, 0.06357774883508682, -0.13745656609535217, -0.24283084273338318, -0.1210700124502182, 0.378296434879303, -0.27342578768730164]}\n"
     ]
    },
    {
     "data": {
      "text/plain": [
       "UpdateResult(operation_id=1, status=<UpdateStatus.COMPLETED: 'completed'>)"
      ]
     },
     "execution_count": 7,
     "metadata": {},
     "output_type": "execute_result"
    }
   ],
   "source": [
    "from langchain_qdrant import QdrantVectorStore\n",
    "from qdrant_client import QdrantClient\n",
    "from qdrant_client.http.models import Distance, VectorParams, PointStruct\n",
    "import asyncio\n",
    "\n",
    "url = \"100.108.14.46\"\n",
    "client = QdrantClient(url)\n",
    "collection_exists = client.collection_exists(\n",
    "    collection_name=\"biologyParametersStore\",\n",
    "   \n",
    "    )\n",
    "if not collection_exists :\n",
    "    client.create_collection(\n",
    "        collection_name=\"biologyParametersStore\",\n",
    "        vectors_config=VectorParams(size=384, distance=Distance.COSINE)\n",
    "        )\n",
    "    \n",
    "vectors = []\n",
    "\n",
    "\n",
    "    \n",
    "for key in docs:\n",
    "    for parameter in docs[key]:\n",
    "        # Embed the 'content' property\n",
    "        vector = await hf.aembed_query(parameter)\n",
    "        \n",
    "        # Add other properties as metadata in the payload\n",
    "        payload = {\n",
    "            \"parameterName\": key,\n",
    "            'frenchNames' : parameter\n",
    "        }\n",
    "        vectors.append({'payload': payload, 'vector': vector})\n",
    "        # Insert vector and metadata into Qdrant\n",
    "print(vectors[0])\n",
    "\n",
    "client.upsert(\n",
    "    collection_name=\"biologyParametersStore\",\n",
    "    points=[\n",
    "        PointStruct(id=idx,payload=vec['payload'], vector=vec['vector'])\n",
    "        for idx, vec in enumerate(vectors)\n",
    "    ]\n",
    ")\n",
    "\n"
   ]
  },
  {
   "cell_type": "code",
   "execution_count": 8,
   "metadata": {},
   "outputs": [
    {
     "name": "stdout",
     "output_type": "stream",
     "text": [
      "[{'id': 110, 'score': 0.8318274, 'payload': {'parameterName': 'Free Triiodothyronine (Free T3)', 'frenchNames': 'T3 libre'}}]\n"
     ]
    }
   ],
   "source": [
    "\n",
    "query_vector = await hf.aembed_query('T3')\n",
    "\n",
    "results = client.search(\n",
    "    collection_name=\"biologyParametersStore\",\n",
    "    query_vector=query_vector,\n",
    "    limit=1,\n",
    "    score_threshold=0.75\n",
    ")\n",
    "formatted_results = [\n",
    "    {\n",
    "        \"id\": result.id,\n",
    "        \"score\": result.score,\n",
    "        \"payload\": result.payload,\n",
    "    }\n",
    "    for result in results\n",
    "]\n",
    "print(formatted_results)"
   ]
  }
 ],
 "metadata": {
  "kernelspec": {
   "display_name": ".venv",
   "language": "python",
   "name": "python3"
  },
  "language_info": {
   "codemirror_mode": {
    "name": "ipython",
    "version": 3
   },
   "file_extension": ".py",
   "mimetype": "text/x-python",
   "name": "python",
   "nbconvert_exporter": "python",
   "pygments_lexer": "ipython3",
   "version": "3.12.5"
  }
 },
 "nbformat": 4,
 "nbformat_minor": 2
}
